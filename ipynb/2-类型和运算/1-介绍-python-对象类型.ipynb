{
 "cells": [
  {
   "cell_type": "markdown",
   "metadata": {},
   "source": [
    "## Python 核心数据类型\n",
    "\n",
    "这部分我只会给出一些便于查询的表格和简介，更多内容请查看之后的章节。\n",
    "\n",
    "**内置对象**  \n",
    "\n",
    "对象类型|例子 常量/创建\n",
    "---|---\n",
    "数字|1234, 3.1415, 3+4j, 0b111, Decimal(), Fraction()\n",
    "字符串|'spam', \"guido's\", b'a\\xolc', u'sp\\xc4m'\n",
    "列表|[1, [2, 'three'], 4], list(range(10))\n",
    "字典|{'food': 'spam', 'taste': 'yum'}, dict(hours=10)\n",
    "元组|(1, 'spam', 4, 'U'), tuple('spam'), namedtuple\n",
    "文件|open('eggs.txt'), open(r'C:\\ham.bin', 'wb')\n",
    "集合|set('abc'), {'a', 'b', 'c'}\n",
    "其他类型|类型、None、布尔型\n",
    "编程单元类型|函数、模块、类\n",
    "与实现相关的类型|编译的代码，堆栈跟踪"
   ]
  },
  {
   "cell_type": "markdown",
   "metadata": {},
   "source": [
    "## 变量"
   ]
  },
  {
   "cell_type": "code",
   "execution_count": null,
   "metadata": {
    "pycharm": {
     "name": "#%%\n"
    }
   },
   "outputs": [],
   "source": [
    "message = \"Hello World\"\n",
    "print(message)"
   ]
  },
  {
   "cell_type": "markdown",
   "metadata": {},
   "source": [
    "这里message为一个变量，与字符串“Hello World”关联在一起。\n",
    "- 变量名只能包含字母、数字和下划线，变量名可以字母或下划线开头，但不能以数字开头。\n",
    "- 变量名不能包含空格，但可以使用下划线分隔其中单词。\n",
    "- 不能将Python关键字和函数名用作函数名。\n",
    "- 变量名应既简短又具有描述性。\n",
    "- 慎用小写字母l和大写字母O。  \n",
    "\n",
    "\n",
    "\n",
    "Python中有三个主要类型（以及操作）的分类：  \n",
    "- 数字（整数、浮点数、二进制、分数等）  \n",
    "    支持加法和乘法等。  \n",
    "- 序列（字符串、列表、元组）  \n",
    "    支持索引、分片和合并等。  \n",
    "- 映射（字典）  \n",
    "    支持通过键的索引等。  \n",
    "\n",
    "Python中主要核心类型划分为如下两类：  \n",
    "- **不可变类型**：数字、字符串、元组、不可变集合  \n",
    "- **可变类型**：列表、字典、可变集合"
   ]
  },
  {
   "cell_type": "markdown",
   "metadata": {},
   "source": [
    "下面我将简短介绍将会遇到的一些Python的有用特性，带你先行了解一下，在Python学习过程中，会遇到哪些出色的功能\n",
    "\n",
    "## 数字类型\n",
    "Python中的数字类型支持一般的数学运算.下面是对照表\n",
    "\n",
    "符号|示意\n",
    "---|---\n",
    "`+` | 加法\n",
    "`-` | 减法\n",
    "`*` | 乘法\n",
    "`/` | 除法\n",
    "`**` | 幂运算\n",
    "见下面的示例"
   ]
  },
  {
   "cell_type": "code",
   "execution_count": null,
   "metadata": {
    "pycharm": {
     "name": "#%%\n"
    }
   },
   "outputs": [],
   "source": [
    "123+222"
   ]
  },
  {
   "cell_type": "code",
   "execution_count": null,
   "metadata": {
    "pycharm": {
     "name": "#%%\n"
    }
   },
   "outputs": [],
   "source": [
    "1.5*4"
   ]
  },
  {
   "cell_type": "code",
   "execution_count": null,
   "metadata": {
    "pycharm": {
     "name": "#%%\n"
    }
   },
   "outputs": [],
   "source": [
    "2**100"
   ]
  },
  {
   "cell_type": "markdown",
   "metadata": {},
   "source": [
    "注意这个浮点数示例，python的浮点数在显示上存在着 `全精度` 和 `用户友好` 两种形式。\n",
    "\n",
    "当你把浮点数用在运算上时，它是全精度的。(`3.1415*2`=6.2830000000000004)\n",
    "\n",
    "而当你把它`print` 出来就又变为用户友好的了(自动省略了靠后位的数值)\n",
    "\n",
    "这是由计算机存储浮点数的方式所决定的。已经超过了本门课程的涉猎范围。"
   ]
  },
  {
   "cell_type": "code",
   "execution_count": null,
   "metadata": {
    "pycharm": {
     "name": "#%%\n"
    }
   },
   "outputs": [],
   "source": [
    "print(3.1415*2)"
   ]
  },
  {
   "cell_type": "markdown",
   "metadata": {},
   "source": [
    "## 序列操作\n",
    "字符串是由单个字符的`串`组成的序列，\n",
    "\n",
    "其他更一般的序列还包括列表和元组（后面章节介绍）\n",
    "\n",
    "字符串支持序列相关的操作。\n",
    "\n",
    "例如反向索引、切片、求字符串长度、数组下标操作等等\n",
    "\n",
    "### 基本操作"
   ]
  },
  {
   "cell_type": "code",
   "execution_count": null,
   "metadata": {
    "pycharm": {
     "name": "#%%\n"
    }
   },
   "outputs": [],
   "source": [
    "S = 'Spam'\n",
    "len(S)"
   ]
  },
  {
   "cell_type": "code",
   "execution_count": null,
   "metadata": {
    "pycharm": {
     "name": "#%%\n"
    }
   },
   "outputs": [],
   "source": [
    "S[0]"
   ]
  },
  {
   "cell_type": "code",
   "execution_count": null,
   "metadata": {
    "pycharm": {
     "name": "#%%\n"
    }
   },
   "outputs": [],
   "source": [
    "S[1]"
   ]
  },
  {
   "cell_type": "markdown",
   "metadata": {},
   "source": [
    "这里涉及到了两个知识点\n",
    "- 如何把字符串赋值给变量`S`\n",
    "- Python的变量不需要提前声明，当给一个变量赋值的时候就创建了它\n",
    "\n",
    "在Python中，可以给一个变量赋值任何类型的对象。并且当变量出现在表达式中时，会用它的值去替换它本身。\n",
    "\n",
    "- 在使用一个变量的值之前必须对其赋值。\n",
    "- 我们需要把一个对象的值赋值给一个变量以便保存它供随后使用"
   ]
  },
  {
   "cell_type": "markdown",
   "metadata": {},
   "source": [
    "## 反向索引\n",
    "所有序列对象，在Python中都支持反向索引的特性。\n",
    "\n",
    "具体来说，就是索引从序列的最后一个元素开始计算。"
   ]
  },
  {
   "cell_type": "code",
   "execution_count": null,
   "metadata": {
    "pycharm": {
     "name": "#%%\n"
    }
   },
   "outputs": [],
   "source": [
    "S[-1]"
   ]
  },
  {
   "cell_type": "code",
   "execution_count": null,
   "metadata": {
    "pycharm": {
     "name": "#%%\n"
    }
   },
   "outputs": [],
   "source": [
    "S[-2]"
   ]
  },
  {
   "cell_type": "code",
   "execution_count": null,
   "metadata": {
    "pycharm": {
     "name": "#%%\n"
    }
   },
   "outputs": [],
   "source": [
    "S[-3]"
   ]
  },
  {
   "cell_type": "markdown",
   "metadata": {},
   "source": [
    "下面的两个操作是等效的。"
   ]
  },
  {
   "cell_type": "code",
   "execution_count": null,
   "metadata": {
    "pycharm": {
     "name": "#%%\n"
    }
   },
   "outputs": [],
   "source": [
    "S[-1]"
   ]
  },
  {
   "cell_type": "code",
   "execution_count": null,
   "metadata": {
    "pycharm": {
     "name": "#%%\n"
    }
   },
   "outputs": [],
   "source": [
    "S[len(S)-1]"
   ]
  },
  {
   "cell_type": "markdown",
   "metadata": {},
   "source": [
    "但要注意，后一种写法是危险的，它容易数组下标越界."
   ]
  },
  {
   "cell_type": "code",
   "execution_count": null,
   "metadata": {
    "pycharm": {
     "name": "#%%\n"
    }
   },
   "outputs": [],
   "source": [
    "S[len(S)]"
   ]
  },
  {
   "cell_type": "code",
   "execution_count": null,
   "metadata": {
    "pycharm": {
     "name": "#%%\n"
    }
   },
   "outputs": [],
   "source": [
    "S[len(S)-1]"
   ]
  },
  {
   "cell_type": "markdown",
   "metadata": {},
   "source": [
    "### 切片操作\n",
    "\n",
    "Python的序列支持切片操作。"
   ]
  }
 ],
 "metadata": {
  "kernelspec": {
   "display_name": "Python 3",
   "language": "python",
   "name": "python3"
  },
  "language_info": {
   "codemirror_mode": {
    "name": "ipython",
    "version": 3
   },
   "file_extension": ".py",
   "mimetype": "text/x-python",
   "name": "python",
   "nbconvert_exporter": "python",
   "pygments_lexer": "ipython3",
   "version": "3.9.1"
  }
 },
 "nbformat": 4,
 "nbformat_minor": 2
}